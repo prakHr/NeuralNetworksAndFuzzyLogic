{
 "cells": [
  {
   "cell_type": "code",
   "execution_count": 1,
   "id": "6dd6ee43",
   "metadata": {},
   "outputs": [],
   "source": [
    "from __future__ import print_function, division\n",
    "from future.utils import iteritems\n",
    "from builtins import range, input\n",
    "# Note: you may need to update your version of future\n",
    "# sudo pip install -U future\n",
    "\n",
    "import pandas as pd\n",
    "import numpy as np\n",
    "import matplotlib.pyplot as plt\n",
    "\n",
    "from datetime import datetime\n",
    "from scipy.stats import norm\n",
    "from scipy.stats import multivariate_normal as mvn\n",
    "from sklearn.model_selection import train_test_split\n",
    "from sklearn.metrics import confusion_matrix as cm\n",
    "\n"
   ]
  },
  {
   "cell_type": "code",
   "execution_count": 2,
   "id": "a346e4cb",
   "metadata": {},
   "outputs": [],
   "source": [
    "def get_data(path):\n",
    "    df = pd.read_excel(path,header=None)\n",
    "    data = df.values\n",
    "  \n",
    "    X = (data[:,:-1]-data[:,:-1].mean())/data[:,:-1].std()\n",
    "    Y = data[:,-1]\n",
    "    Y = Y-1\n",
    "    #print(X)\n",
    "    #print(Y)\n",
    "    return X,Y\n"
   ]
  },
  {
   "cell_type": "code",
   "execution_count": 3,
   "id": "03ad02cf",
   "metadata": {},
   "outputs": [],
   "source": [
    "path = r\"C:\\Users\\gprak\\Downloads\\BITS Courses\\CS F464 Machine Learning I\\data\\data3.xlsx\"\n",
    "X,Y = get_data(path)"
   ]
  },
  {
   "cell_type": "markdown",
   "id": "7d6d3c08",
   "metadata": {},
   "source": [
    "## Hold out Cross Validation"
   ]
  },
  {
   "cell_type": "code",
   "execution_count": 4,
   "id": "effc0556",
   "metadata": {},
   "outputs": [],
   "source": [
    "X_train, X_test, y_train, y_test = train_test_split(\n",
    "        X, Y, test_size=0.4, random_state=1234\n",
    "    )"
   ]
  },
  {
   "cell_type": "markdown",
   "id": "d77dccb0",
   "metadata": {},
   "source": [
    "## Likelihood Ratio Test"
   ]
  },
  {
   "cell_type": "code",
   "execution_count": 5,
   "id": "08769f9a",
   "metadata": {},
   "outputs": [],
   "source": [
    "class Bayes(object):\n",
    "    def fit(self,X,Y,smoothing=1e-2):\n",
    "        N,D = X.shape\n",
    "        self.gaussians,self.priors = dict(),dict()\n",
    "        labels = set(Y)\n",
    "        for c in labels:\n",
    "            current_x = X[Y==c]\n",
    "            self.gaussians[c] = {\n",
    "                'mean':current_x.mean(axis=0),\n",
    "                'cov':np.cov(current_x.T)+np.eye(D)*smoothing\n",
    "            }    \n",
    "            self.priors[c]=float(len(Y[Y==c]))/len(Y)\n",
    "    \n",
    "    def score(self,X,Y):\n",
    "        P=self.predict(X)\n",
    "        return np.mean(P==Y)\n",
    "    \n",
    "    def predict(self,X):\n",
    "        N,D = X.shape\n",
    "        K = len(self.gaussians)\n",
    "        P = np.zeros((N,K))\n",
    "        for c,g in iteritems(self.gaussians):\n",
    "            mean,cov = g['mean'],g['cov']\n",
    "            P[:,int(c)]=mvn.logpdf(X,mean=mean,cov=cov)+np.log(self.priors[c])\n",
    "        return np.argmax(P,axis=1)"
   ]
  },
  {
   "cell_type": "code",
   "execution_count": 6,
   "id": "466da05a",
   "metadata": {},
   "outputs": [],
   "source": [
    "\n",
    "model = Bayes()\n",
    "model.fit(X_train,y_train)\n"
   ]
  },
  {
   "cell_type": "code",
   "execution_count": 7,
   "id": "db72367d",
   "metadata": {},
   "outputs": [
    {
     "name": "stdout",
     "output_type": "stream",
     "text": [
      "Train accuracy: 1.0\n"
     ]
    }
   ],
   "source": [
    "print(f\"Train accuracy: {model.score(X_train,y_train)}\")\n"
   ]
  },
  {
   "cell_type": "code",
   "execution_count": 8,
   "id": "cf3de35b",
   "metadata": {},
   "outputs": [],
   "source": [
    "Y_test_pred = model.predict(X_test)"
   ]
  },
  {
   "cell_type": "code",
   "execution_count": 9,
   "id": "e42e3253",
   "metadata": {},
   "outputs": [
    {
     "name": "stdout",
     "output_type": "stream",
     "text": [
      "Test accuracy: 1.0\n"
     ]
    }
   ],
   "source": [
    "print(f\"Test accuracy: {model.score(X_test,y_test)}\")"
   ]
  },
  {
   "cell_type": "markdown",
   "id": "cc9b771e",
   "metadata": {},
   "source": [
    "## Get all of metrics like Accuracy, Sensitivity and Specificity"
   ]
  },
  {
   "cell_type": "code",
   "execution_count": 10,
   "id": "72f8dd51",
   "metadata": {},
   "outputs": [],
   "source": [
    "def get_metrics(y_true,y_pred):\n",
    "    confusion_matrix = cm(y_true,y_pred)\n",
    "    FP = confusion_matrix.sum(axis=0) - np.diag(confusion_matrix)  \n",
    "    FN = confusion_matrix.sum(axis=1) - np.diag(confusion_matrix)\n",
    "    TP = np.diag(confusion_matrix)\n",
    "    TN = confusion_matrix.sum() - (FP + FN + TP)\n",
    "\n",
    "    # Sensitivity, hit rate, recall, or true positive rate\n",
    "    TPR = TP/(TP+FN)\n",
    "    # Specificity or true negative rate\n",
    "    TNR = TN/(TN+FP) \n",
    "    # Precision or positive predictive value\n",
    "    PPV = TP/(TP+FP)\n",
    "    # Negative predictive value\n",
    "    NPV = TN/(TN+FN)\n",
    "    # Fall out or false positive rate\n",
    "    FPR = FP/(FP+TN)\n",
    "    # False negative rate\n",
    "    FNR = FN/(TP+FN)\n",
    "    # False discovery rate\n",
    "    FDR = FP/(TP+FP)\n",
    "\n",
    "    # Overall accuracy\n",
    "    ACC = (TP+TN)/(TP+FP+FN+TN)\n",
    "    return {\n",
    "        \"ACC\":ACC,\n",
    "        \"TPR\":TPR,\n",
    "        \"TNR\":TNR\n",
    "    }"
   ]
  },
  {
   "cell_type": "code",
   "execution_count": 11,
   "id": "7ae06015",
   "metadata": {},
   "outputs": [],
   "source": [
    "metrics = get_metrics(y_test,Y_test_pred)"
   ]
  },
  {
   "cell_type": "code",
   "execution_count": 12,
   "id": "6adb738b",
   "metadata": {},
   "outputs": [
    {
     "data": {
      "text/plain": [
       "{'ACC': array([1., 1.]), 'TPR': array([1., 1.]), 'TNR': array([1., 1.])}"
      ]
     },
     "execution_count": 12,
     "metadata": {},
     "output_type": "execute_result"
    }
   ],
   "source": [
    "metrics"
   ]
  },
  {
   "cell_type": "code",
   "execution_count": null,
   "id": "d487cde3",
   "metadata": {},
   "outputs": [],
   "source": []
  }
 ],
 "metadata": {
  "kernelspec": {
   "display_name": "Python 3 (ipykernel)",
   "language": "python",
   "name": "python3"
  },
  "language_info": {
   "codemirror_mode": {
    "name": "ipython",
    "version": 3
   },
   "file_extension": ".py",
   "mimetype": "text/x-python",
   "name": "python",
   "nbconvert_exporter": "python",
   "pygments_lexer": "ipython3",
   "version": "3.7.13"
  }
 },
 "nbformat": 4,
 "nbformat_minor": 5
}

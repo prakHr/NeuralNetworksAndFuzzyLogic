{
 "cells": [
  {
   "cell_type": "code",
   "execution_count": 1,
   "id": "d692d27e",
   "metadata": {},
   "outputs": [],
   "source": [
    "from __future__ import print_function, division\n",
    "from builtins import range\n",
    "# Note: you may need to update your version of future\n",
    "# sudo pip install -U future\n",
    "\n",
    "\n",
    "import numpy as np\n",
    "import matplotlib.pyplot as plt\n",
    "import pandas as pd\n",
    "from sklearn.utils import shuffle\n",
    "from sklearn.cluster import KMeans\n",
    "from sklearn.metrics import confusion_matrix as cm\n"
   ]
  },
  {
   "cell_type": "code",
   "execution_count": 2,
   "id": "6b6b6ded",
   "metadata": {},
   "outputs": [],
   "source": [
    "def get_data(path):\n",
    "    df = pd.read_excel(path)\n",
    "    cols = list(df.columns)\n",
    "    col_x = cols[1:-1]\n",
    "    col_y = cols[-1]\n",
    "    mu = df[col_x].mean(axis=0)\n",
    "    std = df[col_x].std(axis=0)\n",
    "    df[col_x] = (df[col_x]-mu)/std\n",
    "    X = df[col_x].values\n",
    "    Y = df[col_y]\n",
    "    names = list(set(Y))\n",
    "    K = len(names)\n",
    "    N = len(Y)\n",
    "    namestoint = dict({name:i for i,name in enumerate(names)})\n",
    "    T = np.zeros((N, K))\n",
    "    for i in range(N):\n",
    "        T[i, namestoint[Y[i]]] = 1\n",
    "    return X,T"
   ]
  },
  {
   "cell_type": "code",
   "execution_count": 3,
   "id": "88214562",
   "metadata": {},
   "outputs": [],
   "source": [
    "path = r\"C:\\Users\\gprak\\Downloads\\BITS Courses\\CS F464 Machine Learning I\\data\\data5.xlsx\"\n",
    "X,Y = get_data(path)\n",
    "X,Y = shuffle(X,Y)\n",
    "train_split = 0.7\n",
    "split_idx = int(train_split*len(X))\n",
    "X_train = X[:split_idx]\n",
    "Y_train = Y[:split_idx]\n",
    "X_test = X[split_idx:]\n",
    "Y_test = Y[split_idx:]\n"
   ]
  },
  {
   "cell_type": "code",
   "execution_count": 4,
   "id": "e0e5e7fe",
   "metadata": {},
   "outputs": [],
   "source": [
    "def k_means(X,Y,K,max_iters=20):\n",
    "    N,D = X.shape\n",
    "#     K = len(np.unique(Y,axis=0))\n",
    "    cluster_identities = np.zeros(N)\n",
    "    cluster_centers = np.zeros((K,D))\n",
    "    for k in range(K):\n",
    "        i = np.random.choice(N)\n",
    "        cluster_centers[k] = X[i]\n",
    "    min_dists = np.zeros(N)\n",
    "    costs = []\n",
    "    for i in range(max_iters):\n",
    "        old_cluster_identities = cluster_identities.copy()\n",
    "        for n in range(N):\n",
    "            closest_k = -1\n",
    "            min_dist = float('inf')\n",
    "            for k in range(K):\n",
    "                d = (X[n]-cluster_centers[k]).dot(X[n]-cluster_centers[k])\n",
    "                if d < min_dist:\n",
    "                    min_dist = d\n",
    "                    closest_k = k\n",
    "            cluster_identities[n] = closest_k\n",
    "            min_dists[n] = min_dist\n",
    "        costs.append(min_dists.sum())\n",
    "#         print(sorted(np.unique(cluster_identities)))\n",
    "        for k in range(K):\n",
    "#             print(len(X[cluster_identities==k]))\n",
    "            if(len(X[cluster_identities==k]))==0:\n",
    "                cluster_centers[k,:]=0\n",
    "            else:\n",
    "                cluster_centers[k,:] = X[cluster_identities==k].mean(axis = 0)\n",
    "        if np.all(old_cluster_identities==cluster_identities):\n",
    "            print(f\"Converged on step {i}\")\n",
    "            break\n",
    "    return costs,cluster_centers,cluster_identities"
   ]
  },
  {
   "cell_type": "code",
   "execution_count": 5,
   "id": "84a93bde",
   "metadata": {},
   "outputs": [
    {
     "name": "stdout",
     "output_type": "stream",
     "text": [
      "Converged on step 5\n"
     ]
    }
   ],
   "source": [
    "K = 600\n",
    "costs,c,labels = k_means(X_train,Y_train,K)"
   ]
  },
  {
   "cell_type": "code",
   "execution_count": 6,
   "id": "6c4f851a",
   "metadata": {},
   "outputs": [],
   "source": [
    "# cluster_centers"
   ]
  },
  {
   "cell_type": "code",
   "execution_count": 7,
   "id": "c4401659",
   "metadata": {},
   "outputs": [],
   "source": [
    "# kmeans = KMeans(n_clusters=K,random_state=0).fit(X_train)"
   ]
  },
  {
   "cell_type": "code",
   "execution_count": 8,
   "id": "809abf00",
   "metadata": {},
   "outputs": [],
   "source": [
    "# labels=kmeans.labels_\n",
    "# labels"
   ]
  },
  {
   "cell_type": "code",
   "execution_count": 9,
   "id": "0149dacc",
   "metadata": {},
   "outputs": [],
   "source": [
    "# c = kmeans.cluster_centers_\n",
    "# c"
   ]
  },
  {
   "cell_type": "code",
   "execution_count": 10,
   "id": "4e81af19",
   "metadata": {},
   "outputs": [],
   "source": [
    "n = np.zeros(K)"
   ]
  },
  {
   "cell_type": "code",
   "execution_count": 11,
   "id": "88339e41",
   "metadata": {},
   "outputs": [],
   "source": [
    "\n",
    "for i in range(K):\n",
    "    n[i] = (labels==i).sum()"
   ]
  },
  {
   "cell_type": "code",
   "execution_count": 12,
   "id": "cefff0a6",
   "metadata": {},
   "outputs": [],
   "source": [
    "sigma = np.zeros(K)"
   ]
  },
  {
   "cell_type": "code",
   "execution_count": 13,
   "id": "12a30980",
   "metadata": {},
   "outputs": [
    {
     "name": "stderr",
     "output_type": "stream",
     "text": [
      "C:\\Users\\gprak\\anaconda3\\envs\\py37\\lib\\site-packages\\ipykernel_launcher.py:2: RuntimeWarning: invalid value encountered in double_scalars\n",
      "  \n"
     ]
    }
   ],
   "source": [
    "for i in range(K):\n",
    "    sigma[i] = (X_train[labels==i,:]-c[i]).T.dot(X_train[labels==i,:]-c[i]).sum()/n[i]"
   ]
  },
  {
   "cell_type": "code",
   "execution_count": 14,
   "id": "d07aa02e",
   "metadata": {},
   "outputs": [
    {
     "data": {
      "text/plain": [
       "array([9.38592853e+01, 1.19594722e+02, 1.40465115e+02, 1.03790427e+01,\n",
       "       5.74736766e+00, 5.09921058e+00, 1.13480868e+01, 7.40257128e+00,\n",
       "       1.48564974e+00, 0.00000000e+00, 1.89469438e+00, 0.00000000e+00,\n",
       "       0.00000000e+00, 9.40364913e+00, 8.63417372e+00, 2.14706641e+01,\n",
       "       4.10062454e-01, 3.40597134e+01, 8.82163187e+00, 2.02855703e+01,\n",
       "       5.28537602e+01, 1.67532763e+01, 0.00000000e+00, 0.00000000e+00,\n",
       "       1.44362643e+00, 9.43567929e+00, 0.00000000e+00, 1.86163308e-02,\n",
       "       4.74705494e+01, 2.24472589e+00, 0.00000000e+00, 1.76603325e+01,\n",
       "       9.22694952e+00, 1.80523639e+01, 3.24813920e+01, 1.56721422e+00,\n",
       "       0.00000000e+00, 0.00000000e+00, 7.44414901e+00, 1.33137916e+02,\n",
       "       2.77956937e+01, 0.00000000e+00, 0.00000000e+00, 4.48748181e-02,\n",
       "       9.17625277e-02, 8.30808340e+01, 0.00000000e+00, 5.10451972e+00,\n",
       "       1.07250869e-02, 1.53413279e+01, 0.00000000e+00, 0.00000000e+00,\n",
       "       6.21789803e-01, 0.00000000e+00, 1.22351808e+00, 0.00000000e+00,\n",
       "       2.21514225e+00, 0.00000000e+00, 1.39287360e+01, 5.40593489e+01,\n",
       "       4.79624124e+01, 1.39658388e+01, 0.00000000e+00, 1.48687957e+01,\n",
       "       0.00000000e+00, 2.17620133e+00, 3.10787069e+01, 0.00000000e+00,\n",
       "       6.03801751e+00, 0.00000000e+00, 1.08263786e+00, 7.30632440e+01,\n",
       "       2.07552941e+00, 5.14582510e+00, 2.99685390e+00, 3.82403837e+00,\n",
       "       2.68556604e+01, 3.23634878e+01, 9.28119885e-01, 0.00000000e+00,\n",
       "       2.17361263e+01, 2.68989281e+01, 3.03049504e+01, 3.06197416e+00,\n",
       "       0.00000000e+00, 1.10193896e+01, 6.95864761e+00, 0.00000000e+00,\n",
       "       2.38638703e-01, 2.43503451e+00, 9.11258244e-01, 8.92350885e-01,\n",
       "       6.44673725e-01, 2.77534575e+02, 0.00000000e+00, 2.97886726e-02,\n",
       "       4.70421240e+00, 0.00000000e+00, 6.75860216e+00, 4.79748432e+01,\n",
       "       3.89666078e+01, 1.09784657e+01, 5.49563629e+00, 1.13333163e+00,\n",
       "       0.00000000e+00, 5.18623926e+00, 6.57042124e+00, 0.00000000e+00,\n",
       "       5.33573884e+00, 2.51055592e+00, 8.02134861e+00, 1.90510412e+01,\n",
       "       1.10182935e+01, 1.00134665e+01, 0.00000000e+00, 0.00000000e+00,\n",
       "       0.00000000e+00, 1.92861763e+01, 3.18355527e+01, 2.84310478e-01,\n",
       "       1.15998956e+01, 1.61741464e+01, 2.08982262e+01, 0.00000000e+00,\n",
       "       4.63942049e+00, 5.86244142e+00, 4.10072234e+00, 1.42948647e+00,\n",
       "       0.00000000e+00, 6.16198786e+00, 2.74887603e-01, 0.00000000e+00,\n",
       "       8.34384375e+01, 2.00805478e-02, 1.88392193e-01, 3.25820495e+00,\n",
       "       9.81584311e+01, 5.26203705e+00, 1.16872573e+01, 5.83565648e+00,\n",
       "       0.00000000e+00, 3.72118391e+01, 4.74225023e-01, 1.28250601e+00,\n",
       "       7.63604197e+00, 3.10742040e+01, 2.56491270e+01, 8.02385315e+00,\n",
       "       8.37312363e+00, 1.49099326e+00, 1.20062942e+01, 3.90043350e+01,\n",
       "       1.49900299e+00, 0.00000000e+00, 1.87107433e+00, 6.37863188e-01,\n",
       "       1.33166906e+01, 1.35476210e+01, 1.51143643e+01, 1.48454707e-02,\n",
       "       2.74541523e+01, 7.88919370e-02, 0.00000000e+00, 2.74168732e+00,\n",
       "       3.83161066e+00, 2.99110234e+01, 6.04019133e-01, 1.41313822e+01,\n",
       "       4.87022977e+00, 1.77910310e+01, 2.53244986e+01, 1.21405047e+00,\n",
       "       2.16210241e+02, 5.60704249e+01, 5.29739784e+00, 1.01327211e+00,\n",
       "       3.38172312e+01, 1.41496448e+02, 4.84611527e+01, 5.89544843e+01,\n",
       "       5.27911045e+01, 0.00000000e+00, 1.04176439e+00, 8.57239110e+00,\n",
       "       1.62354388e+01, 0.00000000e+00, 5.89562509e+00, 1.20200066e+00,\n",
       "       4.08691861e+00, 1.98206432e+00, 0.00000000e+00, 1.52168096e+01,\n",
       "       1.12322869e+00, 0.00000000e+00, 3.75237568e+00, 0.00000000e+00,\n",
       "       2.34310113e+01, 6.16844731e-01, 8.18388902e+01, 3.72488501e+00,\n",
       "       1.46438756e+01, 0.00000000e+00, 0.00000000e+00, 0.00000000e+00,\n",
       "       0.00000000e+00, 3.86296209e+01, 1.72267051e+01, 5.31632755e-01,\n",
       "       7.37882292e+00, 2.38801009e+00, 0.00000000e+00, 1.00354764e+00,\n",
       "       3.07807417e+01, 1.57129785e+00, 4.27103860e+00, 0.00000000e+00,\n",
       "       3.05485101e+02, 3.13111770e+00, 4.46993369e+00, 2.71134535e+02,\n",
       "       5.75424991e+00, 9.51619832e+00, 0.00000000e+00, 0.00000000e+00,\n",
       "       1.10342244e+01, 8.25710195e+00, 4.63656017e+01, 8.91191421e-01,\n",
       "       0.00000000e+00, 3.88085437e+01, 0.00000000e+00, 3.03761766e+01,\n",
       "       0.00000000e+00, 2.87049838e+00, 1.00334430e+01, 0.00000000e+00,\n",
       "       0.00000000e+00, 1.75907051e+01, 7.59405878e+00, 0.00000000e+00,\n",
       "       1.15784539e-02, 2.95256030e+01, 0.00000000e+00, 4.98784094e-01,\n",
       "       0.00000000e+00, 2.21562019e+01, 0.00000000e+00, 7.64232779e+01,\n",
       "       4.90252408e+01, 1.68568343e+00, 0.00000000e+00, 0.00000000e+00,\n",
       "       0.00000000e+00, 4.19516503e+01, 0.00000000e+00, 1.18321462e+00,\n",
       "       1.16415622e+01, 6.66282586e+01, 6.06774519e+00, 5.63611380e+00,\n",
       "       2.18283444e+00, 1.60191786e+00, 0.00000000e+00, 0.00000000e+00,\n",
       "       1.22465205e+00, 1.10427400e+01, 0.00000000e+00, 6.97081620e+00,\n",
       "       1.57004682e+00, 0.00000000e+00, 6.45405024e+01, 3.33248316e+00,\n",
       "       0.00000000e+00, 1.00477255e+01, 0.00000000e+00, 3.53382171e+00,\n",
       "       0.00000000e+00, 0.00000000e+00, 0.00000000e+00, 4.37029342e+01,\n",
       "       2.72967340e+01, 6.23770293e-02, 6.17445762e-01, 1.84236453e+00,\n",
       "       0.00000000e+00, 5.38339510e+00, 0.00000000e+00, 1.53068093e-01,\n",
       "       0.00000000e+00, 3.97757489e+00, 0.00000000e+00, 0.00000000e+00,\n",
       "       0.00000000e+00, 0.00000000e+00, 2.33457754e+01, 2.65631892e+01,\n",
       "       8.03793382e+00, 1.12952622e+02, 2.22283914e+01, 0.00000000e+00,\n",
       "       0.00000000e+00, 0.00000000e+00, 8.19397194e+00, 1.14577349e+02,\n",
       "       0.00000000e+00, 0.00000000e+00, 4.35342363e+00, 5.32429387e+00,\n",
       "       3.09559766e-01, 1.71151032e+02, 0.00000000e+00, 0.00000000e+00,\n",
       "       3.37723280e+00, 0.00000000e+00, 9.35721548e+00, 0.00000000e+00,\n",
       "       0.00000000e+00, 0.00000000e+00, 0.00000000e+00, 0.00000000e+00,\n",
       "       6.55676151e+00, 1.29094791e+01, 2.68688757e+00, 0.00000000e+00,\n",
       "       0.00000000e+00, 0.00000000e+00, 2.25747544e-01, 0.00000000e+00,\n",
       "       2.66424363e-01, 1.36654750e+00, 1.15140729e+01, 0.00000000e+00,\n",
       "       2.77660821e+00, 0.00000000e+00, 3.00596925e+01, 3.27012452e+00,\n",
       "       1.67544991e+00, 0.00000000e+00, 3.82107681e+00, 2.91551332e-01,\n",
       "       2.61446488e+01, 3.92371406e+01, 5.01169728e+00, 5.97102792e+00,\n",
       "       0.00000000e+00, 1.27825806e+01, 1.66346382e+02, 8.58134679e-01,\n",
       "       0.00000000e+00, 0.00000000e+00, 2.50911222e+01, 7.23290781e+01,\n",
       "       2.38266182e+01, 4.54662975e+00, 1.16919674e+01, 6.34356424e+00,\n",
       "       0.00000000e+00, 0.00000000e+00, 6.46893867e+00, 0.00000000e+00,\n",
       "       0.00000000e+00, 2.65884345e+01, 3.15940955e+01, 2.30283803e+01,\n",
       "       9.32854180e-01, 1.83384151e+02, 2.30772785e+00, 5.36385595e+01,\n",
       "       0.00000000e+00, 7.44384946e+00, 2.59862964e+01, 7.20990818e+00,\n",
       "       1.59901964e+01, 0.00000000e+00, 3.10809441e+01, 0.00000000e+00,\n",
       "       0.00000000e+00, 0.00000000e+00, 1.16856520e+01, 0.00000000e+00,\n",
       "       1.72897067e+01, 6.85035458e+02, 3.84946158e+00, 0.00000000e+00,\n",
       "       0.00000000e+00, 6.96510715e+01, 6.93983178e+01, 0.00000000e+00,\n",
       "       1.04348331e+01, 0.00000000e+00, 2.00820470e+01, 3.61781644e+01,\n",
       "       0.00000000e+00, 4.35269644e+01, 0.00000000e+00, 7.81356823e-02,\n",
       "       3.31926774e+01, 0.00000000e+00, 0.00000000e+00, 8.26800679e-01,\n",
       "       9.40725034e+00, 4.11836766e+00, 0.00000000e+00, 1.71239169e+01,\n",
       "       7.67697182e-01, 0.00000000e+00, 1.22227193e+01, 2.01856757e-03,\n",
       "       9.88963595e-01, 0.00000000e+00, 0.00000000e+00, 0.00000000e+00,\n",
       "       0.00000000e+00, 0.00000000e+00, 0.00000000e+00, 9.14171853e+00,\n",
       "       0.00000000e+00, 0.00000000e+00, 0.00000000e+00, 7.25035922e+00,\n",
       "       2.87078428e+01, 0.00000000e+00, 1.37349778e+00, 9.89324579e+00,\n",
       "       1.07003977e+00, 4.21075902e+00, 1.41387544e+01, 0.00000000e+00,\n",
       "       5.38952797e+01, 4.27291774e+01, 0.00000000e+00, 8.85465940e+00,\n",
       "       8.61685436e+00, 2.50257635e+01, 1.19284982e+01, 3.08871304e+01,\n",
       "       2.03844463e+01, 4.50869680e+00, 0.00000000e+00, 1.51257566e+00,\n",
       "       1.08754222e+01, 4.29420551e+01, 0.00000000e+00, 3.28908505e-01,\n",
       "       4.37927055e+00, 6.69146171e+01, 0.00000000e+00, 5.31607216e+01,\n",
       "       1.43901249e+00, 0.00000000e+00, 4.94526880e+00, 3.00564038e+01,\n",
       "       0.00000000e+00, 0.00000000e+00, 1.10859413e+00, 2.00655916e+01,\n",
       "       0.00000000e+00, 2.60342759e+01, 0.00000000e+00, 6.96976145e-01,\n",
       "       0.00000000e+00, 0.00000000e+00, 0.00000000e+00, 0.00000000e+00,\n",
       "       3.48948309e+01, 1.45301753e+01, 4.39777506e+01, 1.32561218e+00,\n",
       "       5.89346773e+00, 0.00000000e+00, 0.00000000e+00, 0.00000000e+00,\n",
       "       0.00000000e+00, 1.27492213e+01, 0.00000000e+00, 2.31786814e+00,\n",
       "       0.00000000e+00, 1.78118967e+01, 3.89001713e-01, 0.00000000e+00,\n",
       "       1.11733511e+01, 0.00000000e+00, 8.34760552e+01, 2.81021937e+01,\n",
       "       0.00000000e+00, 0.00000000e+00, 0.00000000e+00, 0.00000000e+00,\n",
       "       3.94598718e+00, 2.35659129e-01, 9.06118967e+00, 9.05309444e+01,\n",
       "       1.78017079e+01, 0.00000000e+00, 0.00000000e+00, 3.32829298e+01,\n",
       "       0.00000000e+00, 1.15135096e+01, 0.00000000e+00, 0.00000000e+00,\n",
       "       9.81809101e+00, 0.00000000e+00, 0.00000000e+00, 2.19223138e+01,\n",
       "       0.00000000e+00, 0.00000000e+00, 0.00000000e+00, 0.00000000e+00,\n",
       "       1.99557131e+01, 8.40269187e+00, 0.00000000e+00, 0.00000000e+00,\n",
       "       1.70484544e+00, 4.47099275e+00, 7.75972365e-01, 0.00000000e+00,\n",
       "       9.53189661e-01, 6.27236831e+02, 0.00000000e+00, 0.00000000e+00,\n",
       "       2.16314941e+00, 0.00000000e+00, 4.55730516e+00, 7.37095411e+00,\n",
       "       0.00000000e+00, 1.18485437e+02, 4.83444193e+00, 0.00000000e+00,\n",
       "       0.00000000e+00, 0.00000000e+00, 0.00000000e+00, 2.80675612e+01,\n",
       "       0.00000000e+00, 1.57710876e-01, 2.39786589e+01, 5.63717862e-01,\n",
       "       1.13494695e+00, 1.28478066e+01, 0.00000000e+00, 2.32548541e+01,\n",
       "       0.00000000e+00, 7.09106235e+00, 5.73724342e+00, 1.31563251e+01,\n",
       "       0.00000000e+00, 4.27848888e-01, 0.00000000e+00, 0.00000000e+00,\n",
       "       0.00000000e+00, 6.45217557e+00, 5.83023345e+01, 2.16538475e+01,\n",
       "       5.44415281e+01, 0.00000000e+00, 0.00000000e+00, 2.31327146e+00,\n",
       "       2.36490746e-01, 0.00000000e+00, 3.20825143e+01, 3.32918071e+01,\n",
       "       1.88055992e-01, 0.00000000e+00, 0.00000000e+00, 1.31905702e+00,\n",
       "       0.00000000e+00, 0.00000000e+00, 0.00000000e+00, 2.92020113e+00,\n",
       "       1.79051297e+01, 0.00000000e+00, 0.00000000e+00, 1.44366136e+01,\n",
       "       0.00000000e+00, 0.00000000e+00, 1.37395162e+01, 0.00000000e+00,\n",
       "       0.00000000e+00, 3.36604711e+01, 3.75675455e-01, 7.87687008e-01,\n",
       "       3.14082160e+00, 6.38989871e+00, 2.04835326e+00, 1.89111185e+00,\n",
       "       0.00000000e+00, 2.44455902e+01, 5.73792512e+00, 9.75156698e+00,\n",
       "       1.38697615e+01, 0.00000000e+00, 1.86736101e+01, 8.08746309e+02,\n",
       "       0.00000000e+00, 0.00000000e+00, 8.11002912e+00, 8.45246011e+00,\n",
       "       1.76753476e+00, 0.00000000e+00, 1.85166215e+01, 0.00000000e+00])"
      ]
     },
     "execution_count": 14,
     "metadata": {},
     "output_type": "execute_result"
    }
   ],
   "source": [
    "sigma = np.nan_to_num(sigma)\n",
    "sigma"
   ]
  },
  {
   "cell_type": "code",
   "execution_count": 15,
   "id": "8909c215",
   "metadata": {
    "scrolled": false
   },
   "outputs": [],
   "source": [
    "beta = 0.5*sigma*sigma\n"
   ]
  },
  {
   "cell_type": "code",
   "execution_count": 16,
   "id": "bba42895",
   "metadata": {},
   "outputs": [
    {
     "data": {
      "text/plain": [
       "(1503, 600)"
      ]
     },
     "execution_count": 16,
     "metadata": {},
     "output_type": "execute_result"
    }
   ],
   "source": [
    "H = np.zeros((len(X_train),len(c)))\n",
    "\n",
    "H.shape"
   ]
  },
  {
   "cell_type": "code",
   "execution_count": 17,
   "id": "3527e484",
   "metadata": {},
   "outputs": [],
   "source": [
    "for i in range(len(X_train)):\n",
    "    for j in range(len(c)):\n",
    "        H[i,j] = np.exp(-beta[j]*(X_train[i,:]-c[j,:]).dot(X_train[i,:]-c[j,:]).sum())"
   ]
  },
  {
   "cell_type": "code",
   "execution_count": 18,
   "id": "b1ff96dd",
   "metadata": {},
   "outputs": [
    {
     "data": {
      "text/plain": [
       "array([[-1.82811057e+007,  1.82811057e+007],\n",
       "       [ 5.05983180e+007, -5.05983180e+007],\n",
       "       [-3.71536994e+007,  3.71536994e+007],\n",
       "       ...,\n",
       "       [-5.61050860e+005,  5.61050865e+005],\n",
       "       [ 5.98568866e-131, -5.98568866e-131],\n",
       "       [ 2.35121109e+006, -2.35121108e+006]])"
      ]
     },
     "execution_count": 18,
     "metadata": {},
     "output_type": "execute_result"
    }
   ],
   "source": [
    "W = np.linalg.pinv(H).dot(Y_train)\n",
    "W"
   ]
  },
  {
   "cell_type": "code",
   "execution_count": 19,
   "id": "3908d442",
   "metadata": {},
   "outputs": [
    {
     "data": {
      "text/plain": [
       "(645, 600)"
      ]
     },
     "execution_count": 19,
     "metadata": {},
     "output_type": "execute_result"
    }
   ],
   "source": [
    "Ht = np.zeros((len(X_test),len(c)))\n",
    "Ht.shape     "
   ]
  },
  {
   "cell_type": "code",
   "execution_count": 20,
   "id": "2de6c8d2",
   "metadata": {},
   "outputs": [],
   "source": [
    "for i in range(len(X_test)):\n",
    "    for j in range(len(c)):\n",
    "        Ht[i,j] = np.exp(-beta[j]*(X_test[i,:]-c[j,:]).dot(X_test[i,:]-c[j,:]).sum())\n"
   ]
  },
  {
   "cell_type": "code",
   "execution_count": 21,
   "id": "adb0b65b",
   "metadata": {},
   "outputs": [
    {
     "data": {
      "text/plain": [
       "(645, 2)"
      ]
     },
     "execution_count": 21,
     "metadata": {},
     "output_type": "execute_result"
    }
   ],
   "source": [
    "yp = Ht.dot(W)\n",
    "yp.shape"
   ]
  },
  {
   "cell_type": "code",
   "execution_count": 22,
   "id": "034ccd6d",
   "metadata": {},
   "outputs": [
    {
     "data": {
      "text/plain": [
       "array([[1., 0.],\n",
       "       [0., 1.],\n",
       "       [0., 1.],\n",
       "       ...,\n",
       "       [1., 0.],\n",
       "       [1., 0.],\n",
       "       [1., 0.]])"
      ]
     },
     "execution_count": 22,
     "metadata": {},
     "output_type": "execute_result"
    }
   ],
   "source": [
    "yp = np.round(yp)\n",
    "yp"
   ]
  },
  {
   "cell_type": "code",
   "execution_count": 23,
   "id": "75a2a437",
   "metadata": {},
   "outputs": [],
   "source": [
    "def get_metrics(y_true,y_pred):\n",
    "    confusion_matrix = cm(y_true,y_pred)\n",
    "    FP = confusion_matrix.sum(axis=0) - np.diag(confusion_matrix)  \n",
    "    FN = confusion_matrix.sum(axis=1) - np.diag(confusion_matrix)\n",
    "    TP = np.diag(confusion_matrix)\n",
    "    TN = confusion_matrix.sum() - (FP + FN + TP)\n",
    "\n",
    "    # Sensitivity, hit rate, recall, or true positive rate\n",
    "    TPR = TP/(TP+FN)\n",
    "    # Specificity or true negative rate\n",
    "    TNR = TN/(TN+FP) \n",
    "    # Precision or positive predictive value\n",
    "    PPV = TP/(TP+FP)\n",
    "    # Negative predictive value\n",
    "    NPV = TN/(TN+FN)\n",
    "    # Fall out or false positive rate\n",
    "    FPR = FP/(FP+TN)\n",
    "    # False negative rate\n",
    "    FNR = FN/(TP+FN)\n",
    "    # False discovery rate\n",
    "    FDR = FP/(TP+FP)\n",
    "\n",
    "    # Overall accuracy\n",
    "    ACC = (TP+TN)/(TP+FP+FN+TN)\n",
    "    return {\n",
    "        \"ACC\":ACC,\n",
    "        \"TPR\":TPR,\n",
    "        \"TNR\":TNR\n",
    "    }"
   ]
  },
  {
   "cell_type": "code",
   "execution_count": 24,
   "id": "d6715852",
   "metadata": {},
   "outputs": [],
   "source": [
    "y_true = []\n",
    "for i in range(len(Y_test)):\n",
    "    if Y_test[i,0]>Y_test[i,1]:\n",
    "        y_true.append(0)\n",
    "    else:\n",
    "        y_true.append(1)"
   ]
  },
  {
   "cell_type": "code",
   "execution_count": 25,
   "id": "ad5ae2a2",
   "metadata": {},
   "outputs": [],
   "source": [
    "y_pred = []\n",
    "for i in range(len(yp)):\n",
    "    if yp[i,0]>yp[i,1]:\n",
    "        y_pred.append(0)\n",
    "    else:\n",
    "        y_pred.append(1)"
   ]
  },
  {
   "cell_type": "code",
   "execution_count": 26,
   "id": "204013cd",
   "metadata": {},
   "outputs": [
    {
     "data": {
      "text/plain": [
       "{'ACC': array([0.81550388, 0.81550388]),\n",
       " 'TPR': array([0.8    , 0.83125]),\n",
       " 'TNR': array([0.83125, 0.8    ])}"
      ]
     },
     "execution_count": 26,
     "metadata": {},
     "output_type": "execute_result"
    }
   ],
   "source": [
    "get_metrics(y_true,y_pred)"
   ]
  },
  {
   "cell_type": "code",
   "execution_count": null,
   "id": "6d46cb20",
   "metadata": {},
   "outputs": [],
   "source": []
  }
 ],
 "metadata": {
  "kernelspec": {
   "display_name": "Python 3 (ipykernel)",
   "language": "python",
   "name": "python3"
  },
  "language_info": {
   "codemirror_mode": {
    "name": "ipython",
    "version": 3
   },
   "file_extension": ".py",
   "mimetype": "text/x-python",
   "name": "python",
   "nbconvert_exporter": "python",
   "pygments_lexer": "ipython3",
   "version": "3.7.13"
  }
 },
 "nbformat": 4,
 "nbformat_minor": 5
}

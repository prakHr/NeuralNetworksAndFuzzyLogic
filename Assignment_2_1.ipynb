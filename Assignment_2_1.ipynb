{
 "cells": [
  {
   "cell_type": "code",
   "execution_count": 1,
   "id": "d7b6d7c2",
   "metadata": {},
   "outputs": [],
   "source": [
    "from __future__ import print_function, division\n",
    "from builtins import range\n",
    "# Note: you may need to update your version of future\n",
    "# sudo pip install -U future\n",
    "\n",
    "\n",
    "import numpy as np\n",
    "import matplotlib.pyplot as plt\n",
    "import pandas as pd\n",
    "from sklearn.utils import shuffle"
   ]
  },
  {
   "cell_type": "code",
   "execution_count": 2,
   "id": "1ebe7d96",
   "metadata": {},
   "outputs": [],
   "source": [
    "def get_data(path):\n",
    "    df = pd.read_excel(path)\n",
    "#     print(list(df.columns))\n",
    "    cols = list(df.columns)\n",
    "    col_x = cols[1:-1]\n",
    "    col_y = cols[-1]\n",
    "    mu = df[col_x].mean(axis=0)\n",
    "    std = df[col_x].std(axis=0)\n",
    "    df[col_x] = (df[col_x]-mu)/std\n",
    "#     print(col_x)\n",
    "#     print(col_y)\n",
    "    X = df[col_x].values\n",
    "    y = df[col_y].values\n",
    "    \n",
    "    return X,y"
   ]
  },
  {
   "cell_type": "markdown",
   "id": "8a5298e0",
   "metadata": {},
   "source": [
    "## Manual train test split for holdout Cross validation"
   ]
  },
  {
   "cell_type": "code",
   "execution_count": 3,
   "id": "02970caf",
   "metadata": {},
   "outputs": [],
   "source": [
    "path = r\"C:\\Users\\gprak\\Downloads\\BITS Courses\\CS F464 Machine Learning I\\data\\data5.xlsx\"\n",
    "X,Y = get_data(path)\n",
    "X,Y = shuffle(X,Y)\n",
    "train_split = 0.6\n",
    "split_idx = int(train_split*len(X))\n",
    "X_train = X[:split_idx]\n",
    "Y_train = Y[:split_idx]\n",
    "X_test = X[split_idx:]\n",
    "Y_test = Y[split_idx:]\n"
   ]
  },
  {
   "cell_type": "markdown",
   "id": "43e2b0b3",
   "metadata": {},
   "source": [
    "## Contains sigmoid activation at 2 hidden layer multilayer perceptron"
   ]
  },
  {
   "cell_type": "code",
   "execution_count": 4,
   "id": "323469a8",
   "metadata": {},
   "outputs": [],
   "source": [
    "def forward(X,W1,b1,W2,b2):\n",
    "#     Z = X.dot(W1)+b1\n",
    "#     Z = Z*(Z>0)\n",
    "    Z = 1/(1+np.exp(-(X.dot(W1)+b1)))\n",
    "    activation = Z.dot(W2)+b2\n",
    "    Y = 1/(1+np.exp(-activation))\n",
    "    return Y,Z\n",
    "\n",
    "def predict(X,W1,b1,W2,b2):\n",
    "    Y,_ = forward(X,W1,b1,W2,b2)\n",
    "    return np.round(Y)\n",
    "\n",
    "def derivative_w2(Z,T,Y):\n",
    "    return (T-Y).dot(Z)\n",
    "\n",
    "def derivative_b2(T,Y):\n",
    "    return (T-Y).sum()\n",
    "\n",
    "def derivative_w1(X,Z,T,Y,W2):\n",
    "#     dZ = np.outer(T-Y,W2)*(Z>0)\n",
    "    dZ = np.outer(T-Y,W2)*Z*(1-Z)\n",
    "    return X.T.dot(dZ)\n",
    "\n",
    "def derivative_b1(Z,T,Y,W2):\n",
    "    dZ = np.outer(T-Y,W2)*Z*(1-Z)\n",
    "#     dZ = np.outer(T-Y,W2)*(Z>0)\n",
    "    return dZ.sum(axis=0)\n",
    "\n",
    "def get_log_likelihood(T,Y):\n",
    "    ll = np.sum(T*np.log(Y)+(1-T)*np.log(1-Y))\n",
    "    if ll!=ll:ll=0\n",
    "    return ll\n",
    "\n",
    "def run_multilayer_perceptron(X,Y,learning_rate=1e-2,iterations=3000,regularization=0.,verbose=True):\n",
    "    N,D = X.shape\n",
    "    K = len(set(Y))\n",
    "    n_hidden = 8\n",
    "    W1 = np.random.randn(D,n_hidden)\n",
    "    b1 = np.random.randn(n_hidden)\n",
    "    W2 = np.random.randn(n_hidden)\n",
    "    b2 = np.random.randn(1)\n",
    "    LL = []\n",
    "    er = 0\n",
    "    last_error_rate = None\n",
    "    for i in range(iterations):\n",
    "        pY, Z = forward(X,W1,b1,W2,b2)\n",
    "        ll = get_log_likelihood(Y,pY)\n",
    "       \n",
    "        prediction = predict(X,W1,b1,W2,b2)\n",
    "        er = np.abs(prediction-Y).mean()\n",
    "        \n",
    "        \n",
    "        LL.append(ll)\n",
    "        \n",
    "        gW2 = derivative_w2(Z,Y,pY)\n",
    "        gb2 = derivative_b2(Y,pY)\n",
    "        gW1 = derivative_w1(X,Z,Y,pY,W2)\n",
    "        gb1 = derivative_b1(Z,Y,pY,W2)\n",
    "        \n",
    "        W2+=learning_rate*(gW2-regularization*W2)\n",
    "        b2+=learning_rate*(gb2-regularization*b2)\n",
    "        W1+=learning_rate*(gW1-regularization*W1)\n",
    "        b1+=learning_rate*(gb2-regularization*b1)\n",
    "        \n",
    "        if i%100==0 and verbose==True:\n",
    "            print(f\"i:{i}, ll:{ll}, train_classification_rate:{1-er}\")\n",
    "    if verbose==True:\n",
    "        plt.plot(LL)\n",
    "        plt.show()\n",
    "    accuracy = 1-er\n",
    "    return (LL,W1,b1,W2,b2,accuracy)"
   ]
  },
  {
   "cell_type": "code",
   "execution_count": 5,
   "id": "3a036278",
   "metadata": {},
   "outputs": [
    {
     "name": "stdout",
     "output_type": "stream",
     "text": [
      "i:0, ll:-1347.7888488693247, train_classification_rate:0.4961180124223602\n",
      "i:100, ll:-404.42326333233865, train_classification_rate:0.8680124223602484\n",
      "i:200, ll:-332.6251317965034, train_classification_rate:0.8967391304347826\n",
      "i:300, ll:-291.84595547580864, train_classification_rate:0.9169254658385093\n",
      "i:400, ll:-264.3666842549675, train_classification_rate:0.922360248447205\n",
      "i:500, ll:-243.4479022483875, train_classification_rate:0.9246894409937888\n",
      "i:600, ll:-227.2012755422392, train_classification_rate:0.9316770186335404\n",
      "i:700, ll:-211.93236518815212, train_classification_rate:0.9347826086956522\n",
      "i:800, ll:-198.40832166877763, train_classification_rate:0.9386645962732919\n",
      "i:900, ll:-185.21109837300656, train_classification_rate:0.9425465838509317\n",
      "i:1000, ll:-172.684545561224, train_classification_rate:0.9472049689440993\n",
      "i:1100, ll:-160.84166306941475, train_classification_rate:0.9565217391304348\n",
      "i:1200, ll:-150.35368208901167, train_classification_rate:0.9619565217391304\n",
      "i:1300, ll:-141.74730078366707, train_classification_rate:0.9635093167701864\n",
      "i:1400, ll:-133.5233424700515, train_classification_rate:0.9658385093167702\n",
      "i:1500, ll:-124.96234515093225, train_classification_rate:0.967391304347826\n",
      "i:1600, ll:-116.3305066648224, train_classification_rate:0.9728260869565217\n",
      "i:1700, ll:-106.02979913523674, train_classification_rate:0.9759316770186336\n",
      "i:1800, ll:-98.17521452399828, train_classification_rate:0.9782608695652174\n",
      "i:1900, ll:-90.58163986846435, train_classification_rate:0.9829192546583851\n",
      "i:2000, ll:-84.08265767940811, train_classification_rate:0.9829192546583851\n",
      "i:2100, ll:-78.64724263444853, train_classification_rate:0.985248447204969\n",
      "i:2200, ll:-74.02056907677803, train_classification_rate:0.9860248447204969\n",
      "i:2300, ll:-69.86366208151735, train_classification_rate:0.9868012422360248\n",
      "i:2400, ll:-66.01173307947073, train_classification_rate:0.9875776397515528\n",
      "i:2500, ll:-62.0895046724264, train_classification_rate:0.9883540372670807\n",
      "i:2600, ll:-58.778585956372304, train_classification_rate:0.9891304347826086\n",
      "i:2700, ll:-55.780763486781275, train_classification_rate:0.9914596273291926\n",
      "i:2800, ll:-52.40435167373367, train_classification_rate:0.9945652173913043\n",
      "i:2900, ll:-48.65131853566053, train_classification_rate:0.9953416149068323\n"
     ]
    },
    {
     "data": {
      "image/png": "[encoded data removed]",
      "text/plain": [
       "<Figure size 432x288 with 1 Axes>"
      ]
     },
     "metadata": {
      "needs_background": "light"
     },
     "output_type": "display_data"
    }
   ],
   "source": [
    "costs_history,W1,b1,W2,b2,accuracy = run_multilayer_perceptron(X_train,Y_train,learning_rate = 0.001,iterations = 3000,regularization=0.04)"
   ]
  },
  {
   "cell_type": "code",
   "execution_count": 6,
   "id": "ef12defc",
   "metadata": {},
   "outputs": [
    {
     "name": "stdout",
     "output_type": "stream",
     "text": [
      "test_classification_rate:0.8906976744186046\n"
     ]
    }
   ],
   "source": [
    "prediction_test = predict(X_test,W1,b1,W2,b2)\n",
    "er_test = np.abs(prediction_test-Y_test).mean()\n",
    "print(f\"test_classification_rate:{1-er_test}\")\n"
   ]
  },
  {
   "cell_type": "markdown",
   "id": "7304ab0f",
   "metadata": {},
   "source": [
    "## Manual train test split for k-fold Cross validation"
   ]
  },
  {
   "cell_type": "code",
   "execution_count": 7,
   "id": "bb284626",
   "metadata": {},
   "outputs": [
    {
     "name": "stdout",
     "output_type": "stream",
     "text": [
      "i=0\n",
      "i=1\n",
      "i=2\n",
      "i=3\n",
      "i=4\n",
      "avg_classification_rate=0.996927374301676\n"
     ]
    }
   ],
   "source": [
    "K=500\n",
    "X_data,Y_data = X.copy(),Y.copy()\n",
    "N = len(X)\n",
    "# print(N)\n",
    "avg_classification_rate = []\n",
    "for i in range(5):\n",
    "    print(f\"i={i}\")\n",
    "    X_train = np.concatenate((X_data[:i+K],X_data[i+K:]),axis=0)\n",
    "    Y_train = np.concatenate((Y_data[:i+K],Y_data[i+K:]),axis=0)\n",
    "    X_test = X_data[min(i+K,N-1)]\n",
    "    Y_test = Y_data[min(i+K,N-1)]\n",
    "#     print(f\"len(X_train)={len(X_train)}\")\n",
    "#     print(f\"len(X_test)={len(X_test)}\")\n",
    "#     print(f\"X_train={X_train}\")\n",
    "#     print(f\"X_test={X_test}\")\n",
    "#     print(f\"Y_train={Y_train}\")\n",
    "#     print(f\"Y_test={Y_test}\")\n",
    "    costs_history,W1,b1,W2,b2,accuracy = run_multilayer_perceptron(X_train,Y_train,learning_rate = 0.001,iterations = 3000,regularization=0.04,verbose=False)\n",
    "    avg_classification_rate.append(accuracy)\n",
    "avg_classification_rate = np.array(avg_classification_rate)\n",
    "avg_classification_rate = avg_classification_rate.mean()\n",
    "print(f\"avg_classification_rate={avg_classification_rate}\")"
   ]
  },
  {
   "cell_type": "code",
   "execution_count": null,
   "id": "b77feaf5",
   "metadata": {},
   "outputs": [],
   "source": []
  },
  {
   "cell_type": "code",
   "execution_count": null,
   "id": "615d10cb",
   "metadata": {},
   "outputs": [],
   "source": []
  }
 ],
 "metadata": {
  "kernelspec": {
   "display_name": "Python 3 (ipykernel)",
   "language": "python",
   "name": "python3"
  },
  "language_info": {
   "codemirror_mode": {
    "name": "ipython",
    "version": 3
   },
   "file_extension": ".py",
   "mimetype": "text/x-python",
   "name": "python",
   "nbconvert_exporter": "python",
   "pygments_lexer": "ipython3",
   "version": "3.7.13"
  }
 },
 "nbformat": 4,
 "nbformat_minor": 5
}

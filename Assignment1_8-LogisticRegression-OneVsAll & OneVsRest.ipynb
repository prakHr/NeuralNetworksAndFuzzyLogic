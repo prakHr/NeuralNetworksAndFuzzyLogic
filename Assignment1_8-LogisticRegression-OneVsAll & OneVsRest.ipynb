{
 "cells": [
  {
   "cell_type": "code",
   "execution_count": 1,
   "id": "324c2a2d",
   "metadata": {},
   "outputs": [],
   "source": [
    "import numpy as np\n",
    "\n",
    "import pandas as pd\n",
    "\n",
    "from sklearn.model_selection import train_test_split\n"
   ]
  },
  {
   "cell_type": "markdown",
   "id": "1f8dffc9",
   "metadata": {},
   "source": [
    "# Logistic Regression from Scratch"
   ]
  },
  {
   "cell_type": "code",
   "execution_count": 2,
   "id": "6e5dc42a",
   "metadata": {},
   "outputs": [],
   "source": [
    "class LogisticRegression:\n",
    "    def __init__(self, learning_rate=0.001, n_iters=1000):\n",
    "        self.lr = learning_rate\n",
    "        self.n_iters = n_iters\n",
    "        self.weights = None\n",
    "        self.bias = None\n",
    "\n",
    "    def fit(self, X, y):\n",
    "        n_samples, n_features = X.shape\n",
    "\n",
    "        # init parameters\n",
    "        self.weights = np.zeros(n_features)\n",
    "        self.bias = 0\n",
    "\n",
    "        # gradient descent\n",
    "        for _ in range(self.n_iters):\n",
    "            # approximate y with linear combination of weights and x, plus bias\n",
    "            linear_model = np.dot(X, self.weights) + self.bias\n",
    "            # apply sigmoid function\n",
    "            y_predicted = self._sigmoid(linear_model)\n",
    "\n",
    "            # compute gradients\n",
    "            dw = (1 / n_samples) * np.dot(X.T, (y_predicted - y))\n",
    "            db = (1 / n_samples) * np.sum(y_predicted - y)\n",
    "            # update parameters\n",
    "            self.weights -= self.lr * dw\n",
    "            self.bias -= self.lr * db\n",
    "\n",
    "    def predict(self, X):\n",
    "        linear_model = np.dot(X, self.weights) + self.bias\n",
    "        y_predicted = self._sigmoid(linear_model)\n",
    "        y_predicted_cls = [1 if i > 0.5 else 0 for i in y_predicted]\n",
    "        return np.array(y_predicted_cls)\n",
    "    \n",
    "    def predict_probas(self, X):\n",
    "        linear_model = np.dot(X, self.weights) + self.bias\n",
    "        y_predicted = self._sigmoid(linear_model)\n",
    "        return np.array(y_predicted)\n",
    "    \n",
    "    def _sigmoid(self, x):\n",
    "        return 1 / (1 + np.exp(-x))\n",
    "\n"
   ]
  },
  {
   "cell_type": "code",
   "execution_count": 3,
   "id": "b253869a",
   "metadata": {},
   "outputs": [],
   "source": [
    "file_path = r\"C:\\Users\\gprak\\Downloads\\BITS Courses\\CS F464 Machine Learning I\\data\\data4.xlsx\"\n",
    "df = pd.read_excel(file_path,header=None)"
   ]
  },
  {
   "cell_type": "code",
   "execution_count": 4,
   "id": "8df59b0b",
   "metadata": {},
   "outputs": [
    {
     "name": "stdout",
     "output_type": "stream",
     "text": [
      "(150, 8)\n"
     ]
    }
   ],
   "source": [
    "# !pip install openpyxl\n",
    "print(df.shape)"
   ]
  },
  {
   "cell_type": "code",
   "execution_count": 5,
   "id": "aa7fb830",
   "metadata": {},
   "outputs": [
    {
     "data": {
      "text/html": [
       "<div>\n",
       "<style scoped>\n",
       "    .dataframe tbody tr th:only-of-type {\n",
       "        vertical-align: middle;\n",
       "    }\n",
       "\n",
       "    .dataframe tbody tr th {\n",
       "        vertical-align: top;\n",
       "    }\n",
       "\n",
       "    .dataframe thead th {\n",
       "        text-align: right;\n",
       "    }\n",
       "</style>\n",
       "<table border=\"1\" class=\"dataframe\">\n",
       "  <thead>\n",
       "    <tr style=\"text-align: right;\">\n",
       "      <th></th>\n",
       "      <th>0</th>\n",
       "      <th>1</th>\n",
       "      <th>2</th>\n",
       "      <th>3</th>\n",
       "      <th>4</th>\n",
       "      <th>5</th>\n",
       "      <th>6</th>\n",
       "      <th>7</th>\n",
       "    </tr>\n",
       "  </thead>\n",
       "  <tbody>\n",
       "    <tr>\n",
       "      <th>0</th>\n",
       "      <td>5.1</td>\n",
       "      <td>3.5</td>\n",
       "      <td>1.4</td>\n",
       "      <td>0.2</td>\n",
       "      <td>0.04</td>\n",
       "      <td>44.275</td>\n",
       "      <td>3455.15251</td>\n",
       "      <td>1</td>\n",
       "    </tr>\n",
       "    <tr>\n",
       "      <th>1</th>\n",
       "      <td>4.9</td>\n",
       "      <td>3.0</td>\n",
       "      <td>1.4</td>\n",
       "      <td>0.2</td>\n",
       "      <td>0.04</td>\n",
       "      <td>28.400</td>\n",
       "      <td>2829.15249</td>\n",
       "      <td>1</td>\n",
       "    </tr>\n",
       "    <tr>\n",
       "      <th>2</th>\n",
       "      <td>4.7</td>\n",
       "      <td>3.2</td>\n",
       "      <td>1.3</td>\n",
       "      <td>0.2</td>\n",
       "      <td>0.04</td>\n",
       "      <td>34.068</td>\n",
       "      <td>2297.95007</td>\n",
       "      <td>1</td>\n",
       "    </tr>\n",
       "    <tr>\n",
       "      <th>3</th>\n",
       "      <td>4.6</td>\n",
       "      <td>3.1</td>\n",
       "      <td>1.5</td>\n",
       "      <td>0.2</td>\n",
       "      <td>0.04</td>\n",
       "      <td>31.291</td>\n",
       "      <td>2064.22976</td>\n",
       "      <td>1</td>\n",
       "    </tr>\n",
       "    <tr>\n",
       "      <th>4</th>\n",
       "      <td>5.0</td>\n",
       "      <td>3.6</td>\n",
       "      <td>1.4</td>\n",
       "      <td>0.2</td>\n",
       "      <td>0.04</td>\n",
       "      <td>48.056</td>\n",
       "      <td>3130.00000</td>\n",
       "      <td>1</td>\n",
       "    </tr>\n",
       "    <tr>\n",
       "      <th>5</th>\n",
       "      <td>5.4</td>\n",
       "      <td>3.9</td>\n",
       "      <td>1.7</td>\n",
       "      <td>0.4</td>\n",
       "      <td>0.16</td>\n",
       "      <td>61.019</td>\n",
       "      <td>4597.25024</td>\n",
       "      <td>1</td>\n",
       "    </tr>\n",
       "    <tr>\n",
       "      <th>6</th>\n",
       "      <td>4.6</td>\n",
       "      <td>3.4</td>\n",
       "      <td>1.4</td>\n",
       "      <td>0.3</td>\n",
       "      <td>0.09</td>\n",
       "      <td>40.704</td>\n",
       "      <td>2064.42976</td>\n",
       "      <td>1</td>\n",
       "    </tr>\n",
       "  </tbody>\n",
       "</table>\n",
       "</div>"
      ],
      "text/plain": [
       "     0    1    2    3     4       5           6  7\n",
       "0  5.1  3.5  1.4  0.2  0.04  44.275  3455.15251  1\n",
       "1  4.9  3.0  1.4  0.2  0.04  28.400  2829.15249  1\n",
       "2  4.7  3.2  1.3  0.2  0.04  34.068  2297.95007  1\n",
       "3  4.6  3.1  1.5  0.2  0.04  31.291  2064.22976  1\n",
       "4  5.0  3.6  1.4  0.2  0.04  48.056  3130.00000  1\n",
       "5  5.4  3.9  1.7  0.4  0.16  61.019  4597.25024  1\n",
       "6  4.6  3.4  1.4  0.3  0.09  40.704  2064.42976  1"
      ]
     },
     "execution_count": 5,
     "metadata": {},
     "output_type": "execute_result"
    }
   ],
   "source": [
    "df.head(7)"
   ]
  },
  {
   "cell_type": "code",
   "execution_count": 6,
   "id": "7cb8479f",
   "metadata": {},
   "outputs": [
    {
     "data": {
      "text/plain": [
       "[0, 1, 2, 3, 4, 5, 6, 7]"
      ]
     },
     "execution_count": 6,
     "metadata": {},
     "output_type": "execute_result"
    }
   ],
   "source": [
    "list(df.columns)"
   ]
  },
  {
   "cell_type": "code",
   "execution_count": 7,
   "id": "62a556cb",
   "metadata": {},
   "outputs": [],
   "source": [
    "y=df[7].to_numpy()\n",
    "X = df[[0,1,2,3,4,5,6]].to_numpy()\n",
    "\n"
   ]
  },
  {
   "cell_type": "code",
   "execution_count": 8,
   "id": "cefe2aa5",
   "metadata": {},
   "outputs": [
    {
     "data": {
      "text/plain": [
       "(150,)"
      ]
     },
     "execution_count": 8,
     "metadata": {},
     "output_type": "execute_result"
    }
   ],
   "source": [
    "X.shape\n",
    "y.shape"
   ]
  },
  {
   "cell_type": "markdown",
   "id": "2dbc6d2b",
   "metadata": {},
   "source": [
    "# Holdout Cross Validation using 60-40 split"
   ]
  },
  {
   "cell_type": "code",
   "execution_count": 9,
   "id": "8239b7be",
   "metadata": {},
   "outputs": [],
   "source": [
    "X_train, X_test, y_train, y_test = train_test_split(\n",
    "        X, y, test_size=0.4, random_state=1234\n",
    "    )"
   ]
  },
  {
   "cell_type": "code",
   "execution_count": 10,
   "id": "2897350a",
   "metadata": {},
   "outputs": [
    {
     "name": "stdout",
     "output_type": "stream",
     "text": [
      "(90, 7)\n",
      "(60, 7)\n",
      "(90,)\n",
      "(60,)\n"
     ]
    }
   ],
   "source": [
    "print(X_train.shape)\n",
    "print(X_test.shape)\n",
    "print(y_train.shape)\n",
    "print(y_test.shape)"
   ]
  },
  {
   "cell_type": "code",
   "execution_count": 11,
   "id": "cef54ef8",
   "metadata": {},
   "outputs": [
    {
     "name": "stdout",
     "output_type": "stream",
     "text": [
      "[1 2 3]\n",
      "[1 2 3]\n"
     ]
    }
   ],
   "source": [
    "train_classes = np.unique(y_train)\n",
    "test_classes = np.unique(y_test)\n",
    "print(train_classes)\n",
    "print(test_classes)"
   ]
  },
  {
   "cell_type": "code",
   "execution_count": 12,
   "id": "d4ac860e",
   "metadata": {},
   "outputs": [],
   "source": [
    "n_classes = len(train_classes)"
   ]
  },
  {
   "cell_type": "code",
   "execution_count": 13,
   "id": "c4d284f2",
   "metadata": {},
   "outputs": [],
   "source": [
    "def accuracy(y_true, y_pred):\n",
    "    accuracy = np.sum(y_true == y_pred) / len(y_true)\n",
    "    return accuracy"
   ]
  },
  {
   "cell_type": "markdown",
   "id": "8ec16de1",
   "metadata": {},
   "source": [
    "## One vs all implementation"
   ]
  },
  {
   "cell_type": "code",
   "execution_count": 14,
   "id": "2eea0824",
   "metadata": {},
   "outputs": [
    {
     "name": "stdout",
     "output_type": "stream",
     "text": [
      "1 vs [2, 3]\n",
      "LR one vs rest classification accuracy: 1.0\n",
      "****************************************************************************************************\n",
      "2 vs [1, 3]\n"
     ]
    },
    {
     "name": "stderr",
     "output_type": "stream",
     "text": [
      "C:\\Users\\gprak\\anaconda3\\envs\\py37\\lib\\site-packages\\ipykernel_launcher.py:41: RuntimeWarning: overflow encountered in exp\n"
     ]
    },
    {
     "name": "stdout",
     "output_type": "stream",
     "text": [
      "LR one vs rest classification accuracy: 0.6166666666666667\n",
      "****************************************************************************************************\n",
      "3 vs [1, 2]\n",
      "LR one vs rest classification accuracy: 0.7\n",
      "****************************************************************************************************\n"
     ]
    }
   ],
   "source": [
    "test_predictions = []\n",
    "\n",
    "for i,class_val in enumerate(train_classes):\n",
    "    class_1 = class_val\n",
    "   \n",
    "    \n",
    "#     print(y_train_tmp)\n",
    "    rest_classes=[]\n",
    "    for j,class_val_rest in enumerate(train_classes):\n",
    "        if class_1!=class_val_rest:\n",
    "            rest_classes.append(class_val_rest)\n",
    "            y_train_tmp = np.where(y_train == class_1, 1, 0)\n",
    "            y_test_tmp = np.where(y_test == class_1, 1, 0)\n",
    "    print(f\"{class_1} vs {rest_classes}\")\n",
    "            \n",
    "    regressor = LogisticRegression(learning_rate=0.001, n_iters=10000)\n",
    "    regressor.fit(X_train, y_train_tmp)\n",
    "    predictions = regressor.predict(X_test)\n",
    "    print(\"LR one vs rest classification accuracy:\", accuracy(y_test_tmp, predictions))\n",
    "    y_test_probas = regressor.predict_probas(X_test)\n",
    "    y_test_overall_tmp = [class_1 if y_test_probas[i]>=0.5 else y_test[i] for i in range(len(y_test))]\n",
    "    test_predictions.append(y_test_overall_tmp)\n",
    "    print(\"*\"*100)\n",
    "            "
   ]
  },
  {
   "cell_type": "code",
   "execution_count": 15,
   "id": "bb49a487",
   "metadata": {},
   "outputs": [
    {
     "name": "stdout",
     "output_type": "stream",
     "text": [
      "LR one vs rest overall classification accuracy: 1.0\n"
     ]
    }
   ],
   "source": [
    "postcompute_df=pd.DataFrame(test_predictions)\n",
    "overall_test_predictions = postcompute_df.max().to_numpy()\n",
    "print(\"LR one vs rest overall classification accuracy:\", accuracy(overall_test_predictions, y_test))\n",
    "    "
   ]
  },
  {
   "cell_type": "markdown",
   "id": "176d81c5",
   "metadata": {},
   "source": [
    "# One vs rest implementation"
   ]
  },
  {
   "cell_type": "code",
   "execution_count": 16,
   "id": "c8d8f97a",
   "metadata": {},
   "outputs": [
    {
     "name": "stdout",
     "output_type": "stream",
     "text": [
      "For 1 vs 2\n",
      "LR one vs one classification accuracy: 1.0\n",
      "[2, 2, 2, 1, 2, 1, 1, 1, 2, 2, 2, 1, 2, 2, 1, 2, 2, 1, 2, 2, 2, 2, 2, 2, 2, 1, 2, 2, 2, 1, 2, 2, 1, 2, 2, 1, 1, 1, 1, 2, 1, 2, 1, 2, 2, 1, 2, 2, 2, 2, 1, 2, 2, 2, 2, 2, 2, 2, 2, 1]\n",
      "****************************************************************************************************\n"
     ]
    },
    {
     "name": "stderr",
     "output_type": "stream",
     "text": [
      "C:\\Users\\gprak\\anaconda3\\envs\\py37\\lib\\site-packages\\ipykernel_launcher.py:41: RuntimeWarning: overflow encountered in exp\n"
     ]
    },
    {
     "name": "stdout",
     "output_type": "stream",
     "text": [
      "For 1 vs 3\n",
      "LR one vs one classification accuracy: 1.0\n",
      "[3, 3, 3, 1, 3, 1, 1, 1, 3, 3, 3, 1, 3, 3, 1, 3, 3, 1, 3, 3, 3, 3, 3, 3, 3, 1, 3, 3, 3, 1, 3, 3, 1, 3, 3, 1, 1, 1, 1, 3, 1, 3, 1, 3, 3, 1, 3, 3, 3, 3, 1, 3, 3, 3, 3, 3, 3, 3, 3, 1]\n",
      "****************************************************************************************************\n",
      "For 2 vs 1\n",
      "LR one vs one classification accuracy: 1.0\n",
      "[2, 2, 2, 1, 2, 1, 1, 1, 2, 2, 2, 1, 2, 2, 1, 2, 2, 1, 2, 2, 2, 2, 2, 2, 2, 1, 2, 2, 2, 1, 2, 2, 1, 2, 2, 1, 1, 1, 1, 2, 1, 2, 1, 2, 2, 1, 2, 2, 2, 2, 1, 2, 2, 2, 2, 2, 2, 2, 2, 1]\n",
      "****************************************************************************************************\n",
      "For 2 vs 3\n",
      "LR one vs one classification accuracy: 0.5609756097560976\n",
      "[2, 2, 2, 2, 2, 2, 2, 2, 2, 2, 2, 2, 2, 2, 2, 2, 2, 2, 2, 2, 2, 2, 2, 2, 2, 2, 2, 2, 2, 2, 2, 2, 2, 2, 2, 2, 2, 2, 2, 2, 2, 2, 2, 2, 2, 2, 2, 2, 2, 2, 2, 2, 2, 2, 2, 2, 2, 2, 2, 2]\n",
      "****************************************************************************************************\n",
      "For 3 vs 1\n",
      "LR one vs one classification accuracy: 1.0\n",
      "[3, 3, 3, 1, 3, 1, 1, 1, 3, 3, 3, 1, 3, 3, 1, 3, 3, 1, 3, 3, 3, 3, 3, 3, 3, 1, 3, 3, 3, 1, 3, 3, 1, 3, 3, 1, 1, 1, 1, 3, 1, 3, 1, 3, 3, 1, 3, 3, 3, 3, 1, 3, 3, 3, 3, 3, 3, 3, 3, 1]\n",
      "****************************************************************************************************\n",
      "For 3 vs 2\n",
      "LR one vs one classification accuracy: 0.5609756097560976\n",
      "[2, 2, 2, 2, 2, 2, 2, 2, 2, 2, 2, 2, 2, 2, 2, 2, 2, 2, 2, 2, 2, 2, 2, 2, 2, 2, 2, 2, 2, 2, 2, 2, 2, 2, 2, 2, 2, 2, 2, 2, 2, 2, 2, 2, 2, 2, 2, 2, 2, 2, 2, 2, 2, 2, 2, 2, 2, 2, 2, 2]\n",
      "****************************************************************************************************\n"
     ]
    }
   ],
   "source": [
    "test_predictions = []\n",
    "data = X_train\n",
    "df_train = pd.DataFrame(data=data[0:,0:],\n",
    "                        index=[i for i in range(data.shape[0])],\n",
    "                        columns=['X'+str(i) for i in range(data.shape[1])])\n",
    "df_train[\"class\"]=y_train\n",
    "\n",
    "data = X_test\n",
    "df_test = pd.DataFrame(data=data[0:,0:],\n",
    "                        index=[i for i in range(data.shape[0])],\n",
    "                        columns=['X'+str(i) for i in range(data.shape[1])])\n",
    "df_test['class']=y_test\n",
    "\n",
    "            \n",
    "            \n",
    "for i,class_val in enumerate(train_classes):\n",
    "    class_1 = class_val\n",
    "    for j,class_val_other in enumerate(train_classes):\n",
    "        if class_1!=class_val_other:\n",
    "            \n",
    "            df_train_tmp = df_train[(df_train[\"class\"]==class_1) | (df_train[\"class\"]==class_val_other)].copy()\n",
    "#             print(df_train_tmp.head())\n",
    "            df_train_tmp[\"class\"] = np.where((df_train_tmp[\"class\"]==class_1),1,0)\n",
    "#             print(df_train_tmp.head())\n",
    "            X_train_tmp = df_train_tmp[['X'+str(i) for i in range(data.shape[1])]].to_numpy()\n",
    "            y_train_tmp = df_train_tmp[\"class\"].to_numpy()\n",
    "             \n",
    "            df_test_tmp = df_test[(df_test[\"class\"]==class_1) | (df_test[\"class\"]==class_val_other)].copy()\n",
    "            df_test_tmp[\"class\"] = np.where((df_test_tmp[\"class\"]==class_1),1,0)\n",
    "            X_test_tmp = df_test_tmp[['X'+str(i) for i in range(data.shape[1])]].to_numpy()\n",
    "            y_test_tmp = df_test_tmp[\"class\"].to_numpy()\n",
    "           \n",
    "            \n",
    "           \n",
    "            regressor = LogisticRegression(learning_rate=0.1, n_iters=10000)\n",
    "            regressor.fit(X_train_tmp, y_train_tmp)\n",
    "            predictions = regressor.predict(X_test_tmp)\n",
    "            test_prediction = regressor.predict_probas(X_test)\n",
    "            test_prediction_class = [class_1 if test_prediction[i]>=0.5 else class_val_other for i in range(len(y_test))]\n",
    "            print(f\"For {class_1} vs {class_val_other}\")\n",
    "            print(\"LR one vs one classification accuracy:\", accuracy(y_test_tmp, predictions))\n",
    "            print(test_prediction_class)\n",
    "            test_predictions.append(test_prediction_class)\n",
    "            print(\"*\"*100)\n",
    "            \n"
   ]
  },
  {
   "cell_type": "code",
   "execution_count": 17,
   "id": "b4493a59",
   "metadata": {},
   "outputs": [],
   "source": [
    "postcompute_df=pd.DataFrame(test_predictions)\n",
    "    "
   ]
  },
  {
   "cell_type": "code",
   "execution_count": 18,
   "id": "41c3ac2c",
   "metadata": {},
   "outputs": [
    {
     "data": {
      "text/html": [
       "<div>\n",
       "<style scoped>\n",
       "    .dataframe tbody tr th:only-of-type {\n",
       "        vertical-align: middle;\n",
       "    }\n",
       "\n",
       "    .dataframe tbody tr th {\n",
       "        vertical-align: top;\n",
       "    }\n",
       "\n",
       "    .dataframe thead th {\n",
       "        text-align: right;\n",
       "    }\n",
       "</style>\n",
       "<table border=\"1\" class=\"dataframe\">\n",
       "  <thead>\n",
       "    <tr style=\"text-align: right;\">\n",
       "      <th></th>\n",
       "      <th>0</th>\n",
       "      <th>1</th>\n",
       "      <th>2</th>\n",
       "      <th>3</th>\n",
       "      <th>4</th>\n",
       "      <th>5</th>\n",
       "      <th>6</th>\n",
       "      <th>7</th>\n",
       "      <th>8</th>\n",
       "      <th>9</th>\n",
       "      <th>...</th>\n",
       "      <th>50</th>\n",
       "      <th>51</th>\n",
       "      <th>52</th>\n",
       "      <th>53</th>\n",
       "      <th>54</th>\n",
       "      <th>55</th>\n",
       "      <th>56</th>\n",
       "      <th>57</th>\n",
       "      <th>58</th>\n",
       "      <th>59</th>\n",
       "    </tr>\n",
       "  </thead>\n",
       "  <tbody>\n",
       "    <tr>\n",
       "      <th>0</th>\n",
       "      <td>2</td>\n",
       "      <td>2</td>\n",
       "      <td>2</td>\n",
       "      <td>1</td>\n",
       "      <td>2</td>\n",
       "      <td>1</td>\n",
       "      <td>1</td>\n",
       "      <td>1</td>\n",
       "      <td>2</td>\n",
       "      <td>2</td>\n",
       "      <td>...</td>\n",
       "      <td>1</td>\n",
       "      <td>2</td>\n",
       "      <td>2</td>\n",
       "      <td>2</td>\n",
       "      <td>2</td>\n",
       "      <td>2</td>\n",
       "      <td>2</td>\n",
       "      <td>2</td>\n",
       "      <td>2</td>\n",
       "      <td>1</td>\n",
       "    </tr>\n",
       "    <tr>\n",
       "      <th>1</th>\n",
       "      <td>3</td>\n",
       "      <td>3</td>\n",
       "      <td>3</td>\n",
       "      <td>1</td>\n",
       "      <td>3</td>\n",
       "      <td>1</td>\n",
       "      <td>1</td>\n",
       "      <td>1</td>\n",
       "      <td>3</td>\n",
       "      <td>3</td>\n",
       "      <td>...</td>\n",
       "      <td>1</td>\n",
       "      <td>3</td>\n",
       "      <td>3</td>\n",
       "      <td>3</td>\n",
       "      <td>3</td>\n",
       "      <td>3</td>\n",
       "      <td>3</td>\n",
       "      <td>3</td>\n",
       "      <td>3</td>\n",
       "      <td>1</td>\n",
       "    </tr>\n",
       "    <tr>\n",
       "      <th>2</th>\n",
       "      <td>2</td>\n",
       "      <td>2</td>\n",
       "      <td>2</td>\n",
       "      <td>1</td>\n",
       "      <td>2</td>\n",
       "      <td>1</td>\n",
       "      <td>1</td>\n",
       "      <td>1</td>\n",
       "      <td>2</td>\n",
       "      <td>2</td>\n",
       "      <td>...</td>\n",
       "      <td>1</td>\n",
       "      <td>2</td>\n",
       "      <td>2</td>\n",
       "      <td>2</td>\n",
       "      <td>2</td>\n",
       "      <td>2</td>\n",
       "      <td>2</td>\n",
       "      <td>2</td>\n",
       "      <td>2</td>\n",
       "      <td>1</td>\n",
       "    </tr>\n",
       "    <tr>\n",
       "      <th>3</th>\n",
       "      <td>2</td>\n",
       "      <td>2</td>\n",
       "      <td>2</td>\n",
       "      <td>2</td>\n",
       "      <td>2</td>\n",
       "      <td>2</td>\n",
       "      <td>2</td>\n",
       "      <td>2</td>\n",
       "      <td>2</td>\n",
       "      <td>2</td>\n",
       "      <td>...</td>\n",
       "      <td>2</td>\n",
       "      <td>2</td>\n",
       "      <td>2</td>\n",
       "      <td>2</td>\n",
       "      <td>2</td>\n",
       "      <td>2</td>\n",
       "      <td>2</td>\n",
       "      <td>2</td>\n",
       "      <td>2</td>\n",
       "      <td>2</td>\n",
       "    </tr>\n",
       "    <tr>\n",
       "      <th>4</th>\n",
       "      <td>3</td>\n",
       "      <td>3</td>\n",
       "      <td>3</td>\n",
       "      <td>1</td>\n",
       "      <td>3</td>\n",
       "      <td>1</td>\n",
       "      <td>1</td>\n",
       "      <td>1</td>\n",
       "      <td>3</td>\n",
       "      <td>3</td>\n",
       "      <td>...</td>\n",
       "      <td>1</td>\n",
       "      <td>3</td>\n",
       "      <td>3</td>\n",
       "      <td>3</td>\n",
       "      <td>3</td>\n",
       "      <td>3</td>\n",
       "      <td>3</td>\n",
       "      <td>3</td>\n",
       "      <td>3</td>\n",
       "      <td>1</td>\n",
       "    </tr>\n",
       "    <tr>\n",
       "      <th>5</th>\n",
       "      <td>2</td>\n",
       "      <td>2</td>\n",
       "      <td>2</td>\n",
       "      <td>2</td>\n",
       "      <td>2</td>\n",
       "      <td>2</td>\n",
       "      <td>2</td>\n",
       "      <td>2</td>\n",
       "      <td>2</td>\n",
       "      <td>2</td>\n",
       "      <td>...</td>\n",
       "      <td>2</td>\n",
       "      <td>2</td>\n",
       "      <td>2</td>\n",
       "      <td>2</td>\n",
       "      <td>2</td>\n",
       "      <td>2</td>\n",
       "      <td>2</td>\n",
       "      <td>2</td>\n",
       "      <td>2</td>\n",
       "      <td>2</td>\n",
       "    </tr>\n",
       "  </tbody>\n",
       "</table>\n",
       "<p>6 rows × 60 columns</p>\n",
       "</div>"
      ],
      "text/plain": [
       "   0   1   2   3   4   5   6   7   8   9   ...  50  51  52  53  54  55  56  \\\n",
       "0   2   2   2   1   2   1   1   1   2   2  ...   1   2   2   2   2   2   2   \n",
       "1   3   3   3   1   3   1   1   1   3   3  ...   1   3   3   3   3   3   3   \n",
       "2   2   2   2   1   2   1   1   1   2   2  ...   1   2   2   2   2   2   2   \n",
       "3   2   2   2   2   2   2   2   2   2   2  ...   2   2   2   2   2   2   2   \n",
       "4   3   3   3   1   3   1   1   1   3   3  ...   1   3   3   3   3   3   3   \n",
       "5   2   2   2   2   2   2   2   2   2   2  ...   2   2   2   2   2   2   2   \n",
       "\n",
       "   57  58  59  \n",
       "0   2   2   1  \n",
       "1   3   3   1  \n",
       "2   2   2   1  \n",
       "3   2   2   2  \n",
       "4   3   3   1  \n",
       "5   2   2   2  \n",
       "\n",
       "[6 rows x 60 columns]"
      ]
     },
     "execution_count": 18,
     "metadata": {},
     "output_type": "execute_result"
    }
   ],
   "source": [
    "postcompute_df"
   ]
  },
  {
   "cell_type": "code",
   "execution_count": 19,
   "id": "c9b5f428",
   "metadata": {},
   "outputs": [],
   "source": [
    "overall_test_predictions = postcompute_df.mode().to_numpy()"
   ]
  },
  {
   "cell_type": "code",
   "execution_count": 20,
   "id": "2e9299d6",
   "metadata": {},
   "outputs": [
    {
     "name": "stdout",
     "output_type": "stream",
     "text": [
      "Overall LR one vs one classification accuracy: 0.7\n"
     ]
    }
   ],
   "source": [
    "print(\"Overall LR one vs one classification accuracy:\", accuracy(y_test, overall_test_predictions))"
   ]
  },
  {
   "cell_type": "code",
   "execution_count": null,
   "id": "a49ab103",
   "metadata": {},
   "outputs": [],
   "source": []
  }
 ],
 "metadata": {
  "kernelspec": {
   "display_name": "Python 3 (ipykernel)",
   "language": "python",
   "name": "python3"
  },
  "language_info": {
   "codemirror_mode": {
    "name": "ipython",
    "version": 3
   },
   "file_extension": ".py",
   "mimetype": "text/x-python",
   "name": "python",
   "nbconvert_exporter": "python",
   "pygments_lexer": "ipython3",
   "version": "3.7.13"
  }
 },
 "nbformat": 4,
 "nbformat_minor": 5
}
